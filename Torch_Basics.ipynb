{
 "cells": [
  {
   "cell_type": "code",
   "execution_count": 1,
   "id": "dc5d3cd9-4c62-438c-99de-6bb1487a0457",
   "metadata": {},
   "outputs": [],
   "source": [
    "import torch"
   ]
  },
  {
   "cell_type": "code",
   "execution_count": 2,
   "id": "7378ad7b-2808-4e0e-a996-f659d908c22a",
   "metadata": {},
   "outputs": [],
   "source": [
    "from torch import nn\n",
    "from torch.utils.data import DataLoader"
   ]
  },
  {
   "cell_type": "code",
   "execution_count": 3,
   "id": "25d5bfe6-e9fb-4c90-8539-8eed38c14236",
   "metadata": {},
   "outputs": [],
   "source": [
    "from torchvision import datasets"
   ]
  },
  {
   "cell_type": "code",
   "execution_count": 4,
   "id": "99ed7362-a16d-4b10-8d2f-302e9027f44e",
   "metadata": {},
   "outputs": [],
   "source": [
    "from torchvision.transforms import ToTensor"
   ]
  },
  {
   "cell_type": "code",
   "execution_count": 5,
   "id": "4e90f19c-c8bf-4d6b-a3c5-9a724d9810e7",
   "metadata": {},
   "outputs": [],
   "source": [
    "training_data = datasets.FashionMNIST(root='data',train=True,download=True,transform=ToTensor())"
   ]
  },
  {
   "cell_type": "code",
   "execution_count": 6,
   "id": "dfcc7326-b22a-45ac-b9df-4dc76e779380",
   "metadata": {},
   "outputs": [],
   "source": [
    "test_data = datasets.FashionMNIST(root='data',train=False,download=True,transform=ToTensor())"
   ]
  },
  {
   "cell_type": "code",
   "execution_count": 7,
   "id": "df108bbf-dc9b-40ae-9c83-b6b32bda6611",
   "metadata": {},
   "outputs": [
    {
     "name": "stdout",
     "output_type": "stream",
     "text": [
      "Shape of X: torch.Size([64, 1, 28, 28])\n",
      "Shape of y: torch.Size([64]) torch.int64\n"
     ]
    }
   ],
   "source": [
    "batch_size = 64\n",
    "train_dataloader = DataLoader(training_data,batch_size=batch_size)\n",
    "test_dataloader = DataLoader(test_data,batch_size=batch_size)\n",
    "for X, y in test_dataloader:\n",
    "    print(f\"Shape of X: {X.shape}\")\n",
    "    print(f\"Shape of y: {y.shape} {y.dtype}\")\n",
    "    break\n",
    "    "
   ]
  },
  {
   "cell_type": "code",
   "execution_count": 8,
   "id": "16096bb4-dbb7-4cfe-bac0-aeb2b2f858c0",
   "metadata": {},
   "outputs": [
    {
     "name": "stdout",
     "output_type": "stream",
     "text": [
      "Using mps device\n"
     ]
    }
   ],
   "source": [
    "device = (\"cuda\" if torch.cuda.is_available()\n",
    "          else \"mps\"\n",
    "          if torch.backends.mps.is_available()\n",
    "          else \"cpu\")\n",
    "print(f\"Using {device} device\")\n",
    "          "
   ]
  },
  {
   "cell_type": "code",
   "execution_count": 9,
   "id": "86eca8d5-accf-4646-bbb0-34a367425f71",
   "metadata": {},
   "outputs": [
    {
     "name": "stdout",
     "output_type": "stream",
     "text": [
      "NeuralNetwork(\n",
      "  (flatten): Flatten(start_dim=1, end_dim=-1)\n",
      "  (linear_relu_stack): Sequential(\n",
      "    (0): Linear(in_features=784, out_features=512, bias=True)\n",
      "    (1): ReLU()\n",
      "    (2): Linear(in_features=512, out_features=512, bias=True)\n",
      "    (3): ReLU()\n",
      "    (4): Linear(in_features=512, out_features=10, bias=True)\n",
      "  )\n",
      ")\n"
     ]
    }
   ],
   "source": [
    "#Defining Model\n",
    "class NeuralNetwork(nn.Module):\n",
    "    def __init__(self):\n",
    "        super().__init__()\n",
    "        self.flatten = nn.Flatten()\n",
    "        self.linear_relu_stack = nn.Sequential(\n",
    "            nn.Linear(28*28,512),\n",
    "            nn.ReLU(),\n",
    "            nn.Linear(512,512),\n",
    "            nn.ReLU(),\n",
    "            nn.Linear(512,10)\n",
    "        )\n",
    "    def forward(self,x):\n",
    "        x = self.flatten(x)\n",
    "        logits = self.linear_relu_stack(x)\n",
    "        return logits\n",
    "model = NeuralNetwork().to(device)\n",
    "print(model)\n"
   ]
  },
  {
   "cell_type": "code",
   "execution_count": 10,
   "id": "fdc68744-e5a2-4cd4-88f6-ebf285c47c36",
   "metadata": {},
   "outputs": [],
   "source": [
    "#Optimising Model Parameters\n",
    "# To train a model we need an optimizer and a loss function\n",
    "loss_fn = nn.CrossEntropyLoss()\n",
    "optimizer = torch.optim.SGD(model.parameters(), lr=1e-3)"
   ]
  },
  {
   "cell_type": "code",
   "execution_count": 11,
   "id": "83a37afd-065c-4069-b04f-d7b7f284d786",
   "metadata": {},
   "outputs": [],
   "source": [
    "def train(dataloader, model, loss_fn, optimizer):\n",
    "    size = len(dataloader.dataset)\n",
    "    model.train()\n",
    "    for batch, (X,y) in enumerate(dataloader):\n",
    "        X,y = X.to(device), y.to(device)\n",
    "        pred = model(X)\n",
    "        loss = loss_fn(pred,y)\n",
    "        # Back propagation\n",
    "        loss.backward()\n",
    "        optimizer.step()\n",
    "        optimizer.zero_grad()\n",
    "        if batch%100==0:\n",
    "            loss, current = loss.item(), (batch+1)*len(X)\n",
    "            print(f\"Loss: {loss:>7f} [{current:>5d}/{size:>5d}]\")"
   ]
  },
  {
   "cell_type": "code",
   "execution_count": 12,
   "id": "c33aac1b-4f67-487e-8aed-08d97e440b30",
   "metadata": {},
   "outputs": [],
   "source": [
    "#Checking models performance against testing data\n",
    "def test(dataloader, mode, loss_fn):\n",
    "    size = len(dataloader.dataset)\n",
    "    num_batches= len(dataloader)\n",
    "    model.eval()\n",
    "    test_loss,correct = 0,0\n",
    "    with torch.no_grad():\n",
    "        for X,y in dataloader:\n",
    "            X,y = X.to(device), y.to(device)\n",
    "            pred = model(X)\n",
    "            test_loss += loss_fn(pred,y).item()\n",
    "            correct += (pred.argmax(1)==y).type(torch.float).sum().item()\n",
    "    test_loss /=num_batches\n",
    "    correct /=size\n",
    "    print(f\"Test Error: \\nAccuracy: {(100*correct):>0.1f}%, Avg Loss: {test_loss:>8f} \\n\")"
   ]
  },
  {
   "cell_type": "code",
   "execution_count": 13,
   "id": "1ddcce02-71df-48df-9e3a-d404afa5df1e",
   "metadata": {},
   "outputs": [
    {
     "name": "stdout",
     "output_type": "stream",
     "text": [
      "Epochs 1\n",
      "------------\n",
      "Loss: 2.307648 [   64/60000]\n",
      "Loss: 2.289631 [ 6464/60000]\n",
      "Loss: 2.271587 [12864/60000]\n",
      "Loss: 2.259353 [19264/60000]\n",
      "Loss: 2.243279 [25664/60000]\n",
      "Loss: 2.215984 [32064/60000]\n",
      "Loss: 2.225640 [38464/60000]\n",
      "Loss: 2.194904 [44864/60000]\n",
      "Loss: 2.187423 [51264/60000]\n",
      "Loss: 2.160079 [57664/60000]\n",
      "Test Error: \n",
      "Accuracy: 41.6%, Avg Loss: 2.149337 \n",
      "\n",
      "Epochs 2\n",
      "------------\n",
      "Loss: 2.163117 [   64/60000]\n",
      "Loss: 2.149502 [ 6464/60000]\n",
      "Loss: 2.095654 [12864/60000]\n",
      "Loss: 2.103272 [19264/60000]\n",
      "Loss: 2.053127 [25664/60000]\n",
      "Loss: 2.002829 [32064/60000]\n",
      "Loss: 2.025206 [38464/60000]\n",
      "Loss: 1.956911 [44864/60000]\n",
      "Loss: 1.952277 [51264/60000]\n",
      "Loss: 1.884437 [57664/60000]\n",
      "Test Error: \n",
      "Accuracy: 57.6%, Avg Loss: 1.880925 \n",
      "\n",
      "Epochs 3\n",
      "------------\n",
      "Loss: 1.915043 [   64/60000]\n",
      "Loss: 1.883374 [ 6464/60000]\n",
      "Loss: 1.773471 [12864/60000]\n",
      "Loss: 1.800348 [19264/60000]\n",
      "Loss: 1.688842 [25664/60000]\n",
      "Loss: 1.662242 [32064/60000]\n",
      "Loss: 1.664888 [38464/60000]\n",
      "Loss: 1.587520 [44864/60000]\n",
      "Loss: 1.602051 [51264/60000]\n",
      "Loss: 1.494665 [57664/60000]\n",
      "Test Error: \n",
      "Accuracy: 61.1%, Avg Loss: 1.514899 \n",
      "\n",
      "Epochs 4\n",
      "------------\n",
      "Loss: 1.581823 [   64/60000]\n",
      "Loss: 1.547664 [ 6464/60000]\n",
      "Loss: 1.404987 [12864/60000]\n",
      "Loss: 1.461932 [19264/60000]\n",
      "Loss: 1.338121 [25664/60000]\n",
      "Loss: 1.357848 [32064/60000]\n",
      "Loss: 1.353649 [38464/60000]\n",
      "Loss: 1.300132 [44864/60000]\n",
      "Loss: 1.328421 [51264/60000]\n",
      "Loss: 1.224696 [57664/60000]\n",
      "Test Error: \n",
      "Accuracy: 63.5%, Avg Loss: 1.252094 \n",
      "\n",
      "Epochs 5\n",
      "------------\n",
      "Loss: 1.328426 [   64/60000]\n",
      "Loss: 1.312326 [ 6464/60000]\n",
      "Loss: 1.151854 [12864/60000]\n",
      "Loss: 1.246535 [19264/60000]\n",
      "Loss: 1.110304 [25664/60000]\n",
      "Loss: 1.159673 [32064/60000]\n",
      "Loss: 1.165129 [38464/60000]\n",
      "Loss: 1.122756 [44864/60000]\n",
      "Loss: 1.157915 [51264/60000]\n",
      "Loss: 1.067809 [57664/60000]\n",
      "Test Error: \n",
      "Accuracy: 64.8%, Avg Loss: 1.089649 \n",
      "\n",
      "Done!!\n"
     ]
    }
   ],
   "source": [
    "epochs = 5\n",
    "for t in range(epochs):\n",
    "    print(f\"Epochs {t+1}\\n------------\")\n",
    "    train(train_dataloader,model,loss_fn,optimizer)\n",
    "    test(test_dataloader,model,loss_fn)\n",
    "print(\"Done!!\")"
   ]
  },
  {
   "cell_type": "code",
   "execution_count": 14,
   "id": "b4a4c8e0-abbb-4422-99df-9f21872de933",
   "metadata": {},
   "outputs": [
    {
     "name": "stdout",
     "output_type": "stream",
     "text": [
      "Model Saved\n"
     ]
    }
   ],
   "source": [
    "torch.save(model.state_dict(),\"model.pth\")\n",
    "print(\"Model Saved\")"
   ]
  },
  {
   "cell_type": "code",
   "execution_count": 15,
   "id": "f8b44086-fbca-492c-a548-e0b595970e7b",
   "metadata": {},
   "outputs": [
    {
     "data": {
      "text/plain": [
       "<All keys matched successfully>"
      ]
     },
     "execution_count": 15,
     "metadata": {},
     "output_type": "execute_result"
    }
   ],
   "source": [
    "#Loading Model\n",
    "model = NeuralNetwork().to(device)\n",
    "model.load_state_dict(torch.load(\"model.pth\",weights_only=True))"
   ]
  },
  {
   "cell_type": "code",
   "execution_count": 19,
   "id": "b8348696-77c7-4bae-a1b2-6d08b422a5c7",
   "metadata": {},
   "outputs": [
    {
     "name": "stdout",
     "output_type": "stream",
     "text": [
      "Predicted:\"Ankle boot\", Actual: \"Ankle boot\"\n"
     ]
    }
   ],
   "source": [
    "classes = [\n",
    "    \"T-shirt/top\",\n",
    "    \"Trouser\",\n",
    "    \"Pullover\",\n",
    "    \"Dress\",\n",
    "    \"Coat\",\n",
    "    \"Sandal\",\n",
    "    \"Shirt\",\n",
    "    \"Sneaker\",\n",
    "    \"Bag\",\n",
    "    \"Ankle boot\",\n",
    "]\n",
    "model.eval()\n",
    "x,y = test_data[0][0], test_data[0][1]\n",
    "with torch.no_grad():\n",
    "    x=x.to(device)\n",
    "    pred = model(x)\n",
    "    prediction, actual = classes[pred[0].argmax(0)], classes[y]\n",
    "    print(f'Predicted:\"{prediction}\", Actual: \"{actual}\"')"
   ]
  },
  {
   "cell_type": "code",
   "execution_count": null,
   "id": "c9037c6a-8c9b-46b4-870e-f6b22075edf8",
   "metadata": {},
   "outputs": [],
   "source": []
  }
 ],
 "metadata": {
  "kernelspec": {
   "display_name": "Python 3 (ipykernel)",
   "language": "python",
   "name": "python3"
  },
  "language_info": {
   "codemirror_mode": {
    "name": "ipython",
    "version": 3
   },
   "file_extension": ".py",
   "mimetype": "text/x-python",
   "name": "python",
   "nbconvert_exporter": "python",
   "pygments_lexer": "ipython3",
   "version": "3.10.14"
  }
 },
 "nbformat": 4,
 "nbformat_minor": 5
}
